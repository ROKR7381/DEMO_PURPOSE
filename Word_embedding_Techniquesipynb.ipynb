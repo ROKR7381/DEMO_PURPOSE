{
  "nbformat": 4,
  "nbformat_minor": 0,
  "metadata": {
    "colab": {
      "provenance": [],
      "authorship_tag": "ABX9TyMiLu6+5HFIKH5PrOXHxxEp",
      "include_colab_link": true
    },
    "kernelspec": {
      "name": "python3",
      "display_name": "Python 3"
    },
    "language_info": {
      "name": "python"
    }
  },
  "cells": [
    {
      "cell_type": "markdown",
      "metadata": {
        "id": "view-in-github",
        "colab_type": "text"
      },
      "source": [
        "<a href=\"https://colab.research.google.com/github/ROKR7381/DEMO_PURPOSE/blob/main/Word_embedding_Techniquesipynb.ipynb\" target=\"_parent\"><img src=\"https://colab.research.google.com/assets/colab-badge.svg\" alt=\"Open In Colab\"/></a>"
      ]
    },
    {
      "cell_type": "code",
      "source": [
        "!pip install tensorflow.gpu"
      ],
      "metadata": {
        "colab": {
          "base_uri": "https://localhost:8080/"
        },
        "id": "rERFb4f4b4Kw",
        "outputId": "0f545639-a00c-4082-9f9c-8130ac050629"
      },
      "execution_count": 1,
      "outputs": [
        {
          "output_type": "stream",
          "name": "stdout",
          "text": [
            "Looking in indexes: https://pypi.org/simple, https://us-python.pkg.dev/colab-wheels/public/simple/\n",
            "Collecting tensorflow.gpu\n",
            "  Downloading tensorflow_gpu-2.11.0-cp38-cp38-manylinux_2_17_x86_64.manylinux2014_x86_64.whl (588.3 MB)\n",
            "\u001b[2K     \u001b[90m━━━━━━━━━━━━━━━━━━━━━━━━━━━━━━━━━━━━━━━\u001b[0m \u001b[32m588.3/588.3 MB\u001b[0m \u001b[31m2.0 MB/s\u001b[0m eta \u001b[36m0:00:00\u001b[0m\n",
            "\u001b[?25hCollecting keras<2.12,>=2.11.0\n",
            "  Downloading keras-2.11.0-py2.py3-none-any.whl (1.7 MB)\n",
            "\u001b[2K     \u001b[90m━━━━━━━━━━━━━━━━━━━━━━━━━━━━━━━━━━━━━━━━\u001b[0m \u001b[32m1.7/1.7 MB\u001b[0m \u001b[31m24.3 MB/s\u001b[0m eta \u001b[36m0:00:00\u001b[0m\n",
            "\u001b[?25hRequirement already satisfied: setuptools in /usr/local/lib/python3.8/dist-packages (from tensorflow.gpu) (57.4.0)\n",
            "Requirement already satisfied: termcolor>=1.1.0 in /usr/local/lib/python3.8/dist-packages (from tensorflow.gpu) (2.2.0)\n",
            "Collecting flatbuffers>=2.0\n",
            "  Downloading flatbuffers-23.1.4-py2.py3-none-any.whl (26 kB)\n",
            "Requirement already satisfied: grpcio<2.0,>=1.24.3 in /usr/local/lib/python3.8/dist-packages (from tensorflow.gpu) (1.51.1)\n",
            "Requirement already satisfied: tensorflow-io-gcs-filesystem>=0.23.1 in /usr/local/lib/python3.8/dist-packages (from tensorflow.gpu) (0.29.0)\n",
            "Collecting tensorflow-estimator<2.12,>=2.11.0\n",
            "  Downloading tensorflow_estimator-2.11.0-py2.py3-none-any.whl (439 kB)\n",
            "\u001b[2K     \u001b[90m━━━━━━━━━━━━━━━━━━━━━━━━━━━━━━━━━━━━━━\u001b[0m \u001b[32m439.2/439.2 KB\u001b[0m \u001b[31m27.9 MB/s\u001b[0m eta \u001b[36m0:00:00\u001b[0m\n",
            "\u001b[?25hRequirement already satisfied: protobuf<3.20,>=3.9.2 in /usr/local/lib/python3.8/dist-packages (from tensorflow.gpu) (3.19.6)\n",
            "Requirement already satisfied: numpy>=1.20 in /usr/local/lib/python3.8/dist-packages (from tensorflow.gpu) (1.21.6)\n",
            "Requirement already satisfied: opt-einsum>=2.3.2 in /usr/local/lib/python3.8/dist-packages (from tensorflow.gpu) (3.3.0)\n",
            "Requirement already satisfied: packaging in /usr/local/lib/python3.8/dist-packages (from tensorflow.gpu) (21.3)\n",
            "Requirement already satisfied: h5py>=2.9.0 in /usr/local/lib/python3.8/dist-packages (from tensorflow.gpu) (3.1.0)\n",
            "Collecting tensorboard<2.12,>=2.11\n",
            "  Downloading tensorboard-2.11.1-py3-none-any.whl (6.0 MB)\n",
            "\u001b[2K     \u001b[90m━━━━━━━━━━━━━━━━━━━━━━━━━━━━━━━━━━━━━━━━\u001b[0m \u001b[32m6.0/6.0 MB\u001b[0m \u001b[31m38.8 MB/s\u001b[0m eta \u001b[36m0:00:00\u001b[0m\n",
            "\u001b[?25hRequirement already satisfied: gast<=0.4.0,>=0.2.1 in /usr/local/lib/python3.8/dist-packages (from tensorflow.gpu) (0.4.0)\n",
            "Requirement already satisfied: wrapt>=1.11.0 in /usr/local/lib/python3.8/dist-packages (from tensorflow.gpu) (1.14.1)\n",
            "Requirement already satisfied: libclang>=13.0.0 in /usr/local/lib/python3.8/dist-packages (from tensorflow.gpu) (14.0.6)\n",
            "Requirement already satisfied: six>=1.12.0 in /usr/local/lib/python3.8/dist-packages (from tensorflow.gpu) (1.15.0)\n",
            "Requirement already satisfied: typing-extensions>=3.6.6 in /usr/local/lib/python3.8/dist-packages (from tensorflow.gpu) (4.4.0)\n",
            "Requirement already satisfied: google-pasta>=0.1.1 in /usr/local/lib/python3.8/dist-packages (from tensorflow.gpu) (0.2.0)\n",
            "Requirement already satisfied: absl-py>=1.0.0 in /usr/local/lib/python3.8/dist-packages (from tensorflow.gpu) (1.3.0)\n",
            "Requirement already satisfied: astunparse>=1.6.0 in /usr/local/lib/python3.8/dist-packages (from tensorflow.gpu) (1.6.3)\n",
            "Requirement already satisfied: wheel<1.0,>=0.23.0 in /usr/local/lib/python3.8/dist-packages (from astunparse>=1.6.0->tensorflow.gpu) (0.38.4)\n",
            "Requirement already satisfied: markdown>=2.6.8 in /usr/local/lib/python3.8/dist-packages (from tensorboard<2.12,>=2.11->tensorflow.gpu) (3.4.1)\n",
            "Requirement already satisfied: tensorboard-plugin-wit>=1.6.0 in /usr/local/lib/python3.8/dist-packages (from tensorboard<2.12,>=2.11->tensorflow.gpu) (1.8.1)\n",
            "Requirement already satisfied: google-auth-oauthlib<0.5,>=0.4.1 in /usr/local/lib/python3.8/dist-packages (from tensorboard<2.12,>=2.11->tensorflow.gpu) (0.4.6)\n",
            "Requirement already satisfied: google-auth<3,>=1.6.3 in /usr/local/lib/python3.8/dist-packages (from tensorboard<2.12,>=2.11->tensorflow.gpu) (2.15.0)\n",
            "Requirement already satisfied: tensorboard-data-server<0.7.0,>=0.6.0 in /usr/local/lib/python3.8/dist-packages (from tensorboard<2.12,>=2.11->tensorflow.gpu) (0.6.1)\n",
            "Requirement already satisfied: requests<3,>=2.21.0 in /usr/local/lib/python3.8/dist-packages (from tensorboard<2.12,>=2.11->tensorflow.gpu) (2.25.1)\n",
            "Requirement already satisfied: werkzeug>=1.0.1 in /usr/local/lib/python3.8/dist-packages (from tensorboard<2.12,>=2.11->tensorflow.gpu) (1.0.1)\n",
            "Requirement already satisfied: pyparsing!=3.0.5,>=2.0.2 in /usr/local/lib/python3.8/dist-packages (from packaging->tensorflow.gpu) (3.0.9)\n",
            "Requirement already satisfied: cachetools<6.0,>=2.0.0 in /usr/local/lib/python3.8/dist-packages (from google-auth<3,>=1.6.3->tensorboard<2.12,>=2.11->tensorflow.gpu) (5.2.0)\n",
            "Requirement already satisfied: rsa<5,>=3.1.4 in /usr/local/lib/python3.8/dist-packages (from google-auth<3,>=1.6.3->tensorboard<2.12,>=2.11->tensorflow.gpu) (4.9)\n",
            "Requirement already satisfied: pyasn1-modules>=0.2.1 in /usr/local/lib/python3.8/dist-packages (from google-auth<3,>=1.6.3->tensorboard<2.12,>=2.11->tensorflow.gpu) (0.2.8)\n",
            "Requirement already satisfied: requests-oauthlib>=0.7.0 in /usr/local/lib/python3.8/dist-packages (from google-auth-oauthlib<0.5,>=0.4.1->tensorboard<2.12,>=2.11->tensorflow.gpu) (1.3.1)\n",
            "Requirement already satisfied: importlib-metadata>=4.4 in /usr/local/lib/python3.8/dist-packages (from markdown>=2.6.8->tensorboard<2.12,>=2.11->tensorflow.gpu) (6.0.0)\n",
            "Requirement already satisfied: idna<3,>=2.5 in /usr/local/lib/python3.8/dist-packages (from requests<3,>=2.21.0->tensorboard<2.12,>=2.11->tensorflow.gpu) (2.10)\n",
            "Requirement already satisfied: chardet<5,>=3.0.2 in /usr/local/lib/python3.8/dist-packages (from requests<3,>=2.21.0->tensorboard<2.12,>=2.11->tensorflow.gpu) (4.0.0)\n",
            "Requirement already satisfied: certifi>=2017.4.17 in /usr/local/lib/python3.8/dist-packages (from requests<3,>=2.21.0->tensorboard<2.12,>=2.11->tensorflow.gpu) (2022.12.7)\n",
            "Requirement already satisfied: urllib3<1.27,>=1.21.1 in /usr/local/lib/python3.8/dist-packages (from requests<3,>=2.21.0->tensorboard<2.12,>=2.11->tensorflow.gpu) (1.24.3)\n",
            "Requirement already satisfied: zipp>=0.5 in /usr/local/lib/python3.8/dist-packages (from importlib-metadata>=4.4->markdown>=2.6.8->tensorboard<2.12,>=2.11->tensorflow.gpu) (3.11.0)\n",
            "Requirement already satisfied: pyasn1<0.5.0,>=0.4.6 in /usr/local/lib/python3.8/dist-packages (from pyasn1-modules>=0.2.1->google-auth<3,>=1.6.3->tensorboard<2.12,>=2.11->tensorflow.gpu) (0.4.8)\n",
            "Requirement already satisfied: oauthlib>=3.0.0 in /usr/local/lib/python3.8/dist-packages (from requests-oauthlib>=0.7.0->google-auth-oauthlib<0.5,>=0.4.1->tensorboard<2.12,>=2.11->tensorflow.gpu) (3.2.2)\n",
            "Installing collected packages: flatbuffers, tensorflow-estimator, keras, tensorboard, tensorflow.gpu\n",
            "  Attempting uninstall: flatbuffers\n",
            "    Found existing installation: flatbuffers 1.12\n",
            "    Uninstalling flatbuffers-1.12:\n",
            "      Successfully uninstalled flatbuffers-1.12\n",
            "  Attempting uninstall: tensorflow-estimator\n",
            "    Found existing installation: tensorflow-estimator 2.9.0\n",
            "    Uninstalling tensorflow-estimator-2.9.0:\n",
            "      Successfully uninstalled tensorflow-estimator-2.9.0\n",
            "  Attempting uninstall: keras\n",
            "    Found existing installation: keras 2.9.0\n",
            "    Uninstalling keras-2.9.0:\n",
            "      Successfully uninstalled keras-2.9.0\n",
            "  Attempting uninstall: tensorboard\n",
            "    Found existing installation: tensorboard 2.9.1\n",
            "    Uninstalling tensorboard-2.9.1:\n",
            "      Successfully uninstalled tensorboard-2.9.1\n",
            "\u001b[31mERROR: pip's dependency resolver does not currently take into account all the packages that are installed. This behaviour is the source of the following dependency conflicts.\n",
            "tensorflow 2.9.2 requires flatbuffers<2,>=1.12, but you have flatbuffers 23.1.4 which is incompatible.\n",
            "tensorflow 2.9.2 requires keras<2.10.0,>=2.9.0rc0, but you have keras 2.11.0 which is incompatible.\n",
            "tensorflow 2.9.2 requires tensorboard<2.10,>=2.9, but you have tensorboard 2.11.1 which is incompatible.\n",
            "tensorflow 2.9.2 requires tensorflow-estimator<2.10.0,>=2.9.0rc0, but you have tensorflow-estimator 2.11.0 which is incompatible.\u001b[0m\u001b[31m\n",
            "\u001b[0mSuccessfully installed flatbuffers-23.1.4 keras-2.11.0 tensorboard-2.11.1 tensorflow-estimator-2.11.0 tensorflow.gpu-2.11.0\n"
          ]
        }
      ]
    },
    {
      "cell_type": "code",
      "source": [
        "import tensorflow as tf\n",
        "print(tf.__version__)"
      ],
      "metadata": {
        "colab": {
          "base_uri": "https://localhost:8080/"
        },
        "id": "RLKy7sGIb4QL",
        "outputId": "229adadf-d323-4733-a938-905653686b55"
      },
      "execution_count": 4,
      "outputs": [
        {
          "output_type": "stream",
          "name": "stdout",
          "text": [
            "2.11.0\n"
          ]
        }
      ]
    },
    {
      "cell_type": "code",
      "source": [
        "from tensorflow.keras.preprocessing.text import one_hot"
      ],
      "metadata": {
        "id": "LmkS3vGib4Sn"
      },
      "execution_count": 5,
      "outputs": []
    },
    {
      "cell_type": "code",
      "source": [
        "### sentences\n",
        "sent=['the glass of milk',\n",
        "     'the glass of juice',\n",
        "     'the cup of tea',\n",
        "    'I am a good boy',\n",
        "     'I am a good developer',\n",
        "     'understand the meaning of words',\n",
        "     'your videos are good']"
      ],
      "metadata": {
        "id": "K4PQT9FPb4Z3"
      },
      "execution_count": 6,
      "outputs": []
    },
    {
      "cell_type": "code",
      "source": [
        "sent"
      ],
      "metadata": {
        "colab": {
          "base_uri": "https://localhost:8080/"
        },
        "id": "m9ZSNfywb4dU",
        "outputId": "252bc923-56de-4304-938d-3d98efea9c7e"
      },
      "execution_count": 7,
      "outputs": [
        {
          "output_type": "execute_result",
          "data": {
            "text/plain": [
              "['the glass of milk',\n",
              " 'the glass of juice',\n",
              " 'the cup of tea',\n",
              " 'I am a good boy',\n",
              " 'I am a good developer',\n",
              " 'understand the meaning of words',\n",
              " 'your videos are good']"
            ]
          },
          "metadata": {},
          "execution_count": 7
        }
      ]
    },
    {
      "cell_type": "code",
      "source": [
        "voc_size=10000"
      ],
      "metadata": {
        "id": "3KE-d1_eb4f9"
      },
      "execution_count": 8,
      "outputs": []
    },
    {
      "cell_type": "markdown",
      "source": [
        "## **One Hot Representation**"
      ],
      "metadata": {
        "id": "ZiDTQAkRTxXI"
      }
    },
    {
      "cell_type": "code",
      "source": [
        "onehot_repr = [one_hot(words,voc_size)for words in sent]\n",
        "print(onehot_repr)"
      ],
      "metadata": {
        "colab": {
          "base_uri": "https://localhost:8080/"
        },
        "id": "bXZF9n2hb4la",
        "outputId": "862b2f5b-cafd-465f-b878-c6a156adbb1f"
      },
      "execution_count": 9,
      "outputs": [
        {
          "output_type": "stream",
          "name": "stdout",
          "text": [
            "[[37, 427, 9913, 1754], [37, 427, 9913, 4925], [37, 295, 9913, 634], [6607, 7403, 4678, 209, 3502], [6607, 7403, 4678, 209, 2607], [6296, 37, 1459, 9913, 5708], [4640, 3038, 4072, 209]]\n"
          ]
        }
      ]
    },
    {
      "cell_type": "code",
      "source": [
        "from tensorflow.keras.layers import Embedding\n",
        "from tensorflow.keras.preprocessing.sequence import pad_sequences\n",
        "from tensorflow.keras.models import Sequential"
      ],
      "metadata": {
        "id": "gCu6123mUIWt"
      },
      "execution_count": 10,
      "outputs": []
    },
    {
      "cell_type": "code",
      "source": [
        "import numpy as np"
      ],
      "metadata": {
        "id": "d_aWXswrUIZh"
      },
      "execution_count": 12,
      "outputs": []
    },
    {
      "cell_type": "code",
      "source": [],
      "metadata": {
        "id": "YA6qfmKfUIb8"
      },
      "execution_count": null,
      "outputs": []
    },
    {
      "cell_type": "markdown",
      "source": [
        "Word Embedding"
      ],
      "metadata": {
        "id": "50UdtyV8dzB5"
      }
    },
    {
      "cell_type": "code",
      "source": [
        "##pre-padding\n",
        "sent_length=8\n",
        "embedded_docs=pad_sequences(onehot_repr,padding='pre',maxlen=sent_length)\n",
        "print(embedded_docs)"
      ],
      "metadata": {
        "colab": {
          "base_uri": "https://localhost:8080/"
        },
        "id": "RrUKvktUUIeo",
        "outputId": "51936bb3-8d2b-4580-dfc4-418be2318ce4"
      },
      "execution_count": 14,
      "outputs": [
        {
          "output_type": "stream",
          "name": "stdout",
          "text": [
            "[[   0    0    0    0   37  427 9913 1754]\n",
            " [   0    0    0    0   37  427 9913 4925]\n",
            " [   0    0    0    0   37  295 9913  634]\n",
            " [   0    0    0 6607 7403 4678  209 3502]\n",
            " [   0    0    0 6607 7403 4678  209 2607]\n",
            " [   0    0    0 6296   37 1459 9913 5708]\n",
            " [   0    0    0    0 4640 3038 4072  209]]\n"
          ]
        }
      ]
    },
    {
      "cell_type": "code",
      "source": [
        "##post-padding\n",
        "sent_length=8\n",
        "embedded_docs=pad_sequences(onehot_repr,padding='post',maxlen=sent_length)\n",
        "print(embedded_docs)"
      ],
      "metadata": {
        "colab": {
          "base_uri": "https://localhost:8080/"
        },
        "id": "RaCiAI9kUIg8",
        "outputId": "35c5a3e8-d48d-46ab-bf26-e47dbca5a480"
      },
      "execution_count": 15,
      "outputs": [
        {
          "output_type": "stream",
          "name": "stdout",
          "text": [
            "[[  37  427 9913 1754    0    0    0    0]\n",
            " [  37  427 9913 4925    0    0    0    0]\n",
            " [  37  295 9913  634    0    0    0    0]\n",
            " [6607 7403 4678  209 3502    0    0    0]\n",
            " [6607 7403 4678  209 2607    0    0    0]\n",
            " [6296   37 1459 9913 5708    0    0    0]\n",
            " [4640 3038 4072  209    0    0    0    0]]\n"
          ]
        }
      ]
    },
    {
      "cell_type": "code",
      "source": [
        "dim = 10"
      ],
      "metadata": {
        "id": "ThNUmuFUUIjx"
      },
      "execution_count": 16,
      "outputs": []
    },
    {
      "cell_type": "code",
      "source": [
        "model=Sequential()\n",
        "model.add(Embedding(voc_size,10,input_length=sent_length))\n",
        "model.compile('adam','mse')"
      ],
      "metadata": {
        "id": "GQqhTq9eUImE"
      },
      "execution_count": 17,
      "outputs": []
    },
    {
      "cell_type": "code",
      "source": [
        "model.summary()"
      ],
      "metadata": {
        "colab": {
          "base_uri": "https://localhost:8080/"
        },
        "id": "-t_rYCLRUIpQ",
        "outputId": "85ffa6ca-2bdc-41a8-86a8-7aa3c930e9f3"
      },
      "execution_count": 18,
      "outputs": [
        {
          "output_type": "stream",
          "name": "stdout",
          "text": [
            "Model: \"sequential\"\n",
            "_________________________________________________________________\n",
            " Layer (type)                Output Shape              Param #   \n",
            "=================================================================\n",
            " embedding (Embedding)       (None, 8, 10)             100000    \n",
            "                                                                 \n",
            "=================================================================\n",
            "Total params: 100,000\n",
            "Trainable params: 100,000\n",
            "Non-trainable params: 0\n",
            "_________________________________________________________________\n"
          ]
        }
      ]
    },
    {
      "cell_type": "code",
      "source": [
        "model.predict(embedded_docs[0])"
      ],
      "metadata": {
        "colab": {
          "base_uri": "https://localhost:8080/"
        },
        "id": "iY9gVP0ufwa3",
        "outputId": "c36f948e-6591-4114-d3af-eb8a53323f2a"
      },
      "execution_count": 19,
      "outputs": [
        {
          "output_type": "stream",
          "name": "stderr",
          "text": [
            "WARNING:tensorflow:Model was constructed with shape (None, 8) for input KerasTensor(type_spec=TensorSpec(shape=(None, 8), dtype=tf.float32, name='embedding_input'), name='embedding_input', description=\"created by layer 'embedding_input'\"), but it was called on an input with incompatible shape (None,).\n"
          ]
        },
        {
          "output_type": "stream",
          "name": "stdout",
          "text": [
            "1/1 [==============================] - 1s 620ms/step\n"
          ]
        },
        {
          "output_type": "execute_result",
          "data": {
            "text/plain": [
              "array([[-0.03240857,  0.01998533,  0.04074729,  0.04972256, -0.03206368,\n",
              "        -0.02181978,  0.03235393, -0.01071831,  0.02314097, -0.01425048],\n",
              "       [-0.02670188, -0.03150516, -0.01471752,  0.03842708,  0.04261872,\n",
              "        -0.00446407,  0.01001935, -0.04047058, -0.01021295,  0.04767598],\n",
              "       [ 0.01091282,  0.02706928, -0.03043067, -0.02053547, -0.04147319,\n",
              "        -0.04917781,  0.02045257, -0.01760782, -0.01277371, -0.01173519],\n",
              "       [ 0.02886509,  0.0355274 , -0.04837899, -0.03025631,  0.01605016,\n",
              "        -0.04099401, -0.01037041, -0.0284326 , -0.02554982,  0.00790708],\n",
              "       [-0.00437088, -0.0269928 , -0.0184515 , -0.03135893, -0.01692337,\n",
              "        -0.03447771, -0.00277464, -0.02079803,  0.01494744, -0.02303338],\n",
              "       [-0.00437088, -0.0269928 , -0.0184515 , -0.03135893, -0.01692337,\n",
              "        -0.03447771, -0.00277464, -0.02079803,  0.01494744, -0.02303338],\n",
              "       [-0.00437088, -0.0269928 , -0.0184515 , -0.03135893, -0.01692337,\n",
              "        -0.03447771, -0.00277464, -0.02079803,  0.01494744, -0.02303338],\n",
              "       [-0.00437088, -0.0269928 , -0.0184515 , -0.03135893, -0.01692337,\n",
              "        -0.03447771, -0.00277464, -0.02079803,  0.01494744, -0.02303338]],\n",
              "      dtype=float32)"
            ]
          },
          "metadata": {},
          "execution_count": 19
        }
      ]
    },
    {
      "cell_type": "code",
      "source": [
        "embedded_docs[0]"
      ],
      "metadata": {
        "colab": {
          "base_uri": "https://localhost:8080/"
        },
        "id": "m7AC0a6EfwdZ",
        "outputId": "62677584-b3ae-4c2e-c925-564a43305af2"
      },
      "execution_count": 20,
      "outputs": [
        {
          "output_type": "execute_result",
          "data": {
            "text/plain": [
              "array([  37,  427, 9913, 1754,    0,    0,    0,    0], dtype=int32)"
            ]
          },
          "metadata": {},
          "execution_count": 20
        }
      ]
    },
    {
      "cell_type": "code",
      "source": [
        "print(model.predict(embedded_docs))"
      ],
      "metadata": {
        "colab": {
          "base_uri": "https://localhost:8080/"
        },
        "id": "ZrH4II9ifwgG",
        "outputId": "d2704111-1569-4507-e0d6-b4f86488e95a"
      },
      "execution_count": 21,
      "outputs": [
        {
          "output_type": "stream",
          "name": "stdout",
          "text": [
            "1/1 [==============================] - 0s 57ms/step\n",
            "[[[-3.24085727e-02  1.99853294e-02  4.07472886e-02  4.97225560e-02\n",
            "   -3.20636779e-02 -2.18197834e-02  3.23539265e-02 -1.07183084e-02\n",
            "    2.31409706e-02 -1.42504796e-02]\n",
            "  [-2.67018806e-02 -3.15051563e-02 -1.47175193e-02  3.84270810e-02\n",
            "    4.26187180e-02 -4.46406752e-03  1.00193508e-02 -4.04705778e-02\n",
            "   -1.02129467e-02  4.76759784e-02]\n",
            "  [ 1.09128244e-02  2.70692818e-02 -3.04306746e-02 -2.05354691e-02\n",
            "   -4.14731875e-02 -4.91778143e-02  2.04525702e-02 -1.76078193e-02\n",
            "   -1.27737150e-02 -1.17351897e-02]\n",
            "  [ 2.88650878e-02  3.55273969e-02 -4.83789928e-02 -3.02563068e-02\n",
            "    1.60501637e-02 -4.09940109e-02 -1.03704110e-02 -2.84325965e-02\n",
            "   -2.55498178e-02  7.90708140e-03]\n",
            "  [-4.37087938e-03 -2.69927979e-02 -1.84515007e-02 -3.13589349e-02\n",
            "   -1.69233680e-02 -3.44777107e-02 -2.77464464e-03 -2.07980275e-02\n",
            "    1.49474405e-02 -2.30333805e-02]\n",
            "  [-4.37087938e-03 -2.69927979e-02 -1.84515007e-02 -3.13589349e-02\n",
            "   -1.69233680e-02 -3.44777107e-02 -2.77464464e-03 -2.07980275e-02\n",
            "    1.49474405e-02 -2.30333805e-02]\n",
            "  [-4.37087938e-03 -2.69927979e-02 -1.84515007e-02 -3.13589349e-02\n",
            "   -1.69233680e-02 -3.44777107e-02 -2.77464464e-03 -2.07980275e-02\n",
            "    1.49474405e-02 -2.30333805e-02]\n",
            "  [-4.37087938e-03 -2.69927979e-02 -1.84515007e-02 -3.13589349e-02\n",
            "   -1.69233680e-02 -3.44777107e-02 -2.77464464e-03 -2.07980275e-02\n",
            "    1.49474405e-02 -2.30333805e-02]]\n",
            "\n",
            " [[-3.24085727e-02  1.99853294e-02  4.07472886e-02  4.97225560e-02\n",
            "   -3.20636779e-02 -2.18197834e-02  3.23539265e-02 -1.07183084e-02\n",
            "    2.31409706e-02 -1.42504796e-02]\n",
            "  [-2.67018806e-02 -3.15051563e-02 -1.47175193e-02  3.84270810e-02\n",
            "    4.26187180e-02 -4.46406752e-03  1.00193508e-02 -4.04705778e-02\n",
            "   -1.02129467e-02  4.76759784e-02]\n",
            "  [ 1.09128244e-02  2.70692818e-02 -3.04306746e-02 -2.05354691e-02\n",
            "   -4.14731875e-02 -4.91778143e-02  2.04525702e-02 -1.76078193e-02\n",
            "   -1.27737150e-02 -1.17351897e-02]\n",
            "  [-4.52433489e-02  1.11623891e-02 -9.24120098e-03 -4.51750420e-02\n",
            "    1.54254474e-02 -3.57533619e-03  4.62590531e-03  4.03518118e-02\n",
            "   -3.84011380e-02 -4.95225452e-02]\n",
            "  [-4.37087938e-03 -2.69927979e-02 -1.84515007e-02 -3.13589349e-02\n",
            "   -1.69233680e-02 -3.44777107e-02 -2.77464464e-03 -2.07980275e-02\n",
            "    1.49474405e-02 -2.30333805e-02]\n",
            "  [-4.37087938e-03 -2.69927979e-02 -1.84515007e-02 -3.13589349e-02\n",
            "   -1.69233680e-02 -3.44777107e-02 -2.77464464e-03 -2.07980275e-02\n",
            "    1.49474405e-02 -2.30333805e-02]\n",
            "  [-4.37087938e-03 -2.69927979e-02 -1.84515007e-02 -3.13589349e-02\n",
            "   -1.69233680e-02 -3.44777107e-02 -2.77464464e-03 -2.07980275e-02\n",
            "    1.49474405e-02 -2.30333805e-02]\n",
            "  [-4.37087938e-03 -2.69927979e-02 -1.84515007e-02 -3.13589349e-02\n",
            "   -1.69233680e-02 -3.44777107e-02 -2.77464464e-03 -2.07980275e-02\n",
            "    1.49474405e-02 -2.30333805e-02]]\n",
            "\n",
            " [[-3.24085727e-02  1.99853294e-02  4.07472886e-02  4.97225560e-02\n",
            "   -3.20636779e-02 -2.18197834e-02  3.23539265e-02 -1.07183084e-02\n",
            "    2.31409706e-02 -1.42504796e-02]\n",
            "  [-3.75351198e-02 -3.22717577e-02 -4.06666286e-02 -5.86978346e-03\n",
            "    8.47115368e-03  3.46702076e-02  3.45433615e-02 -5.14934212e-03\n",
            "   -1.93707589e-02  3.11426036e-02]\n",
            "  [ 1.09128244e-02  2.70692818e-02 -3.04306746e-02 -2.05354691e-02\n",
            "   -4.14731875e-02 -4.91778143e-02  2.04525702e-02 -1.76078193e-02\n",
            "   -1.27737150e-02 -1.17351897e-02]\n",
            "  [ 3.76046561e-02 -4.52372432e-02  3.63110378e-03  3.59853357e-03\n",
            "    3.26043703e-02 -1.38310082e-02 -4.06980999e-02  5.51475212e-03\n",
            "    3.88281085e-02 -2.07853317e-03]\n",
            "  [-4.37087938e-03 -2.69927979e-02 -1.84515007e-02 -3.13589349e-02\n",
            "   -1.69233680e-02 -3.44777107e-02 -2.77464464e-03 -2.07980275e-02\n",
            "    1.49474405e-02 -2.30333805e-02]\n",
            "  [-4.37087938e-03 -2.69927979e-02 -1.84515007e-02 -3.13589349e-02\n",
            "   -1.69233680e-02 -3.44777107e-02 -2.77464464e-03 -2.07980275e-02\n",
            "    1.49474405e-02 -2.30333805e-02]\n",
            "  [-4.37087938e-03 -2.69927979e-02 -1.84515007e-02 -3.13589349e-02\n",
            "   -1.69233680e-02 -3.44777107e-02 -2.77464464e-03 -2.07980275e-02\n",
            "    1.49474405e-02 -2.30333805e-02]\n",
            "  [-4.37087938e-03 -2.69927979e-02 -1.84515007e-02 -3.13589349e-02\n",
            "   -1.69233680e-02 -3.44777107e-02 -2.77464464e-03 -2.07980275e-02\n",
            "    1.49474405e-02 -2.30333805e-02]]\n",
            "\n",
            " [[-3.84435058e-02  9.40370560e-03  5.48977777e-03 -4.34134156e-03\n",
            "    2.45408677e-02  5.91878965e-03 -3.49013582e-02  4.48976196e-02\n",
            "    3.82026471e-02  2.63540819e-03]\n",
            "  [-4.42862511e-03 -4.97551076e-02 -3.37092504e-02  3.94838713e-02\n",
            "    2.43411772e-02  1.98192634e-02 -5.09639829e-03  4.74529341e-03\n",
            "    3.84089462e-02  2.58991159e-02]\n",
            "  [-2.88185962e-02 -1.21704824e-02  3.09592374e-02 -4.32456508e-02\n",
            "   -1.34376884e-02 -3.56382020e-02  3.83102931e-02 -1.70956030e-02\n",
            "    1.72700919e-02  2.39545964e-02]\n",
            "  [-2.80064102e-02  3.46815102e-02 -3.98518443e-02 -3.21723223e-02\n",
            "    2.50661485e-02 -1.88807007e-02 -1.71519443e-03 -3.59649435e-02\n",
            "   -3.16688567e-02 -2.41179820e-02]\n",
            "  [ 1.63680799e-02 -1.35974176e-02 -1.90596338e-02 -1.58190019e-02\n",
            "    3.49373743e-03 -3.22089419e-02 -1.67497881e-02 -1.89572703e-02\n",
            "   -2.66662594e-02 -3.46279852e-02]\n",
            "  [-4.37087938e-03 -2.69927979e-02 -1.84515007e-02 -3.13589349e-02\n",
            "   -1.69233680e-02 -3.44777107e-02 -2.77464464e-03 -2.07980275e-02\n",
            "    1.49474405e-02 -2.30333805e-02]\n",
            "  [-4.37087938e-03 -2.69927979e-02 -1.84515007e-02 -3.13589349e-02\n",
            "   -1.69233680e-02 -3.44777107e-02 -2.77464464e-03 -2.07980275e-02\n",
            "    1.49474405e-02 -2.30333805e-02]\n",
            "  [-4.37087938e-03 -2.69927979e-02 -1.84515007e-02 -3.13589349e-02\n",
            "   -1.69233680e-02 -3.44777107e-02 -2.77464464e-03 -2.07980275e-02\n",
            "    1.49474405e-02 -2.30333805e-02]]\n",
            "\n",
            " [[-3.84435058e-02  9.40370560e-03  5.48977777e-03 -4.34134156e-03\n",
            "    2.45408677e-02  5.91878965e-03 -3.49013582e-02  4.48976196e-02\n",
            "    3.82026471e-02  2.63540819e-03]\n",
            "  [-4.42862511e-03 -4.97551076e-02 -3.37092504e-02  3.94838713e-02\n",
            "    2.43411772e-02  1.98192634e-02 -5.09639829e-03  4.74529341e-03\n",
            "    3.84089462e-02  2.58991159e-02]\n",
            "  [-2.88185962e-02 -1.21704824e-02  3.09592374e-02 -4.32456508e-02\n",
            "   -1.34376884e-02 -3.56382020e-02  3.83102931e-02 -1.70956030e-02\n",
            "    1.72700919e-02  2.39545964e-02]\n",
            "  [-2.80064102e-02  3.46815102e-02 -3.98518443e-02 -3.21723223e-02\n",
            "    2.50661485e-02 -1.88807007e-02 -1.71519443e-03 -3.59649435e-02\n",
            "   -3.16688567e-02 -2.41179820e-02]\n",
            "  [ 3.37127335e-02 -3.99958603e-02  4.66042757e-03  8.56762007e-03\n",
            "   -3.95768173e-02  3.18044089e-02  1.42019279e-02  2.79141702e-02\n",
            "    3.99417616e-02  1.36654489e-02]\n",
            "  [-4.37087938e-03 -2.69927979e-02 -1.84515007e-02 -3.13589349e-02\n",
            "   -1.69233680e-02 -3.44777107e-02 -2.77464464e-03 -2.07980275e-02\n",
            "    1.49474405e-02 -2.30333805e-02]\n",
            "  [-4.37087938e-03 -2.69927979e-02 -1.84515007e-02 -3.13589349e-02\n",
            "   -1.69233680e-02 -3.44777107e-02 -2.77464464e-03 -2.07980275e-02\n",
            "    1.49474405e-02 -2.30333805e-02]\n",
            "  [-4.37087938e-03 -2.69927979e-02 -1.84515007e-02 -3.13589349e-02\n",
            "   -1.69233680e-02 -3.44777107e-02 -2.77464464e-03 -2.07980275e-02\n",
            "    1.49474405e-02 -2.30333805e-02]]\n",
            "\n",
            " [[ 9.26631689e-03  4.28644530e-02  3.60580534e-03  1.87411644e-02\n",
            "    4.08335216e-02 -2.02660449e-02 -2.94124242e-02  2.55095400e-02\n",
            "   -3.40365246e-03 -4.01485711e-04]\n",
            "  [-3.24085727e-02  1.99853294e-02  4.07472886e-02  4.97225560e-02\n",
            "   -3.20636779e-02 -2.18197834e-02  3.23539265e-02 -1.07183084e-02\n",
            "    2.31409706e-02 -1.42504796e-02]\n",
            "  [ 4.90988754e-02 -1.05490312e-02 -4.76505160e-02 -2.87671331e-02\n",
            "   -8.33212212e-03  3.73454206e-02 -1.76920667e-02  3.25224437e-02\n",
            "    8.22460651e-03  6.18833303e-03]\n",
            "  [ 1.09128244e-02  2.70692818e-02 -3.04306746e-02 -2.05354691e-02\n",
            "   -4.14731875e-02 -4.91778143e-02  2.04525702e-02 -1.76078193e-02\n",
            "   -1.27737150e-02 -1.17351897e-02]\n",
            "  [ 1.70028321e-02  4.83562611e-02 -1.70307383e-02  8.87185335e-03\n",
            "   -3.29238921e-02 -3.48790735e-03  3.88724841e-02  4.19697054e-02\n",
            "   -1.76092237e-03 -2.43844520e-02]\n",
            "  [-4.37087938e-03 -2.69927979e-02 -1.84515007e-02 -3.13589349e-02\n",
            "   -1.69233680e-02 -3.44777107e-02 -2.77464464e-03 -2.07980275e-02\n",
            "    1.49474405e-02 -2.30333805e-02]\n",
            "  [-4.37087938e-03 -2.69927979e-02 -1.84515007e-02 -3.13589349e-02\n",
            "   -1.69233680e-02 -3.44777107e-02 -2.77464464e-03 -2.07980275e-02\n",
            "    1.49474405e-02 -2.30333805e-02]\n",
            "  [-4.37087938e-03 -2.69927979e-02 -1.84515007e-02 -3.13589349e-02\n",
            "   -1.69233680e-02 -3.44777107e-02 -2.77464464e-03 -2.07980275e-02\n",
            "    1.49474405e-02 -2.30333805e-02]]\n",
            "\n",
            " [[ 4.90126871e-02 -2.85140164e-02  1.41678713e-02 -4.49879766e-02\n",
            "    3.48397158e-02 -3.52287292e-02  1.86303370e-02 -3.26420665e-02\n",
            "   -3.24146040e-02 -4.15808186e-02]\n",
            "  [-2.17741616e-02 -3.81081812e-02 -5.81033528e-05 -3.05661913e-02\n",
            "   -3.09633501e-02  4.78456728e-02  2.52607130e-02 -2.44338512e-02\n",
            "    3.00991647e-02 -3.51249464e-02]\n",
            "  [ 4.30239923e-02 -1.46876574e-02  3.10992263e-02  3.49776186e-02\n",
            "    9.61862877e-03  2.27875151e-02 -1.70968771e-02  1.20221376e-02\n",
            "   -5.81406429e-03 -8.95427540e-03]\n",
            "  [-2.80064102e-02  3.46815102e-02 -3.98518443e-02 -3.21723223e-02\n",
            "    2.50661485e-02 -1.88807007e-02 -1.71519443e-03 -3.59649435e-02\n",
            "   -3.16688567e-02 -2.41179820e-02]\n",
            "  [-4.37087938e-03 -2.69927979e-02 -1.84515007e-02 -3.13589349e-02\n",
            "   -1.69233680e-02 -3.44777107e-02 -2.77464464e-03 -2.07980275e-02\n",
            "    1.49474405e-02 -2.30333805e-02]\n",
            "  [-4.37087938e-03 -2.69927979e-02 -1.84515007e-02 -3.13589349e-02\n",
            "   -1.69233680e-02 -3.44777107e-02 -2.77464464e-03 -2.07980275e-02\n",
            "    1.49474405e-02 -2.30333805e-02]\n",
            "  [-4.37087938e-03 -2.69927979e-02 -1.84515007e-02 -3.13589349e-02\n",
            "   -1.69233680e-02 -3.44777107e-02 -2.77464464e-03 -2.07980275e-02\n",
            "    1.49474405e-02 -2.30333805e-02]\n",
            "  [-4.37087938e-03 -2.69927979e-02 -1.84515007e-02 -3.13589349e-02\n",
            "   -1.69233680e-02 -3.44777107e-02 -2.77464464e-03 -2.07980275e-02\n",
            "    1.49474405e-02 -2.30333805e-02]]]\n"
          ]
        }
      ]
    },
    {
      "cell_type": "code",
      "source": [
        "### Assignment\n",
        "\n",
        "sentences=[\"The world is a better place\",\n",
        "      \"Marvel series is my favourite movie\",\n",
        "      \"I like DC movies\",\n",
        "      \"the cat is eating the food\",\n",
        "      \"Tom and Jerry is my favourite movie\",\n",
        "      \"Python is my favourite programming language\"\n",
        "      ]"
      ],
      "metadata": {
        "id": "s-10YUqDfwjL"
      },
      "execution_count": 22,
      "outputs": []
    },
    {
      "cell_type": "code",
      "source": [
        "sentences"
      ],
      "metadata": {
        "colab": {
          "base_uri": "https://localhost:8080/"
        },
        "id": "L10bgS2MfwmS",
        "outputId": "4d0b04d6-7ba4-4e72-e487-8ce63b80797d"
      },
      "execution_count": 23,
      "outputs": [
        {
          "output_type": "execute_result",
          "data": {
            "text/plain": [
              "['The world is a better place',\n",
              " 'Marvel series is my favourite movie',\n",
              " 'I like DC movies',\n",
              " 'the cat is eating the food',\n",
              " 'Tom and Jerry is my favourite movie',\n",
              " 'Python is my favourite programming language']"
            ]
          },
          "metadata": {},
          "execution_count": 23
        }
      ]
    },
    {
      "cell_type": "code",
      "source": [
        "voc_size=5000"
      ],
      "metadata": {
        "id": "op33rPNrfwtn"
      },
      "execution_count": 24,
      "outputs": []
    },
    {
      "cell_type": "code",
      "source": [
        "onehot_repr=[one_hot(words,voc_size)for words in sentences] \n",
        "print(onehot_repr)"
      ],
      "metadata": {
        "colab": {
          "base_uri": "https://localhost:8080/"
        },
        "id": "7ywpMOgsfwxW",
        "outputId": "9b150788-249b-46de-9dd7-f1321fe922c1"
      },
      "execution_count": 25,
      "outputs": [
        {
          "output_type": "stream",
          "name": "stdout",
          "text": [
            "[[3944, 4254, 4254, 3087, 2952, 1209], [4579, 2323, 4254, 912, 3861, 4848], [1148, 3735, 3975, 2675], [3944, 4865, 4254, 4015, 3944, 2928], [2681, 4595, 4786, 4254, 912, 3861, 4848], [4439, 4254, 912, 3861, 4722, 1492]]\n"
          ]
        }
      ]
    },
    {
      "cell_type": "code",
      "source": [
        "sent_length=10\n",
        "embedded_docs=pad_sequences(onehot_repr,padding='pre',maxlen=sent_length)\n",
        "print(embedded_docs)"
      ],
      "metadata": {
        "colab": {
          "base_uri": "https://localhost:8080/"
        },
        "id": "F9OXuW3tfw1L",
        "outputId": "bf61a4e3-3ad9-4ac9-cd6c-b958ff38a8ed"
      },
      "execution_count": 27,
      "outputs": [
        {
          "output_type": "stream",
          "name": "stdout",
          "text": [
            "[[   0    0    0    0 3944 4254 4254 3087 2952 1209]\n",
            " [   0    0    0    0 4579 2323 4254  912 3861 4848]\n",
            " [   0    0    0    0    0    0 1148 3735 3975 2675]\n",
            " [   0    0    0    0 3944 4865 4254 4015 3944 2928]\n",
            " [   0    0    0 2681 4595 4786 4254  912 3861 4848]\n",
            " [   0    0    0    0 4439 4254  912 3861 4722 1492]]\n"
          ]
        }
      ]
    },
    {
      "cell_type": "code",
      "source": [],
      "metadata": {
        "id": "Nn60zaO4fw4A"
      },
      "execution_count": null,
      "outputs": []
    },
    {
      "cell_type": "code",
      "source": [],
      "metadata": {
        "id": "uFVLyy2sfw6W"
      },
      "execution_count": null,
      "outputs": []
    },
    {
      "cell_type": "code",
      "source": [],
      "metadata": {
        "id": "qgexySPSfw9M"
      },
      "execution_count": null,
      "outputs": []
    },
    {
      "cell_type": "code",
      "source": [],
      "metadata": {
        "id": "olRXyxayfw_0"
      },
      "execution_count": null,
      "outputs": []
    },
    {
      "cell_type": "code",
      "source": [],
      "metadata": {
        "id": "vvgW9s2sfxCp"
      },
      "execution_count": null,
      "outputs": []
    },
    {
      "cell_type": "code",
      "source": [],
      "metadata": {
        "id": "Bz1KHPMNUIs2"
      },
      "execution_count": null,
      "outputs": []
    }
  ]
}