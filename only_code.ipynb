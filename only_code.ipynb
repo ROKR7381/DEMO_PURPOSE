{
 "cells": [
  {
   "cell_type": "code",
   "execution_count": null,
   "id": "e0aa7e46",
   "metadata": {},
   "outputs": [],
   "source": [
    "import pandas as pd\n",
    "import numpy as np\n",
    "import seaborn as sns\n",
    "import matplotlib.pyplot as plt\n",
    "%matplotlib inline\n",
    "\n",
    "import warnings\n",
    "warnings.filterwarnings('ignore')"
   ]
  },
  {
   "cell_type": "code",
   "execution_count": null,
   "id": "07aa80e1",
   "metadata": {},
   "outputs": [],
   "source": [
    "above is important libraries which is necessary to read csv file,read numerical value etc"
   ]
  },
  {
   "cell_type": "code",
   "execution_count": null,
   "id": "d2226b5d",
   "metadata": {},
   "outputs": [],
   "source": [
    "train = pd.read_csv('https://raw.githubusercontent.com/ROKR7381/DEMO_PURPOSE/main/train_IxoE5JN.csv')\n",
    "train.head()\n",
    "test = pd.read_csv('https://raw.githubusercontent.com/ROKR7381/DEMO_PURPOSE/main/test_WudNWDM.csv')\n",
    "test.head()\n",
    "submission = pd.read_csv(\"https://raw.githubusercontent.com/ROKR7381/DEMO_PURPOSE/main/sample_submission_jn0a7vR.csv\")"
   ]
  },
  {
   "cell_type": "code",
   "execution_count": null,
   "id": "72b2b39f",
   "metadata": {},
   "outputs": [],
   "source": [
    "print(train.shape)\n",
    "print(test.shape)\n",
    "print(submission.shape)"
   ]
  },
  {
   "cell_type": "code",
   "execution_count": null,
   "id": "1c6d46d9",
   "metadata": {},
   "outputs": [],
   "source": [
    "train.isnull().sum()\n",
    "test.isnull().sum()\n",
    "train['energy'] = train['energy'].fillna(np.mean(train['energy']))\n",
    "train.isnull().sum()\n",
    "train_len = len(train)\n",
    "test_len = len(test)\n",
    "df = pd.concat([train,test], axis=0)\n",
    "df.head()\n",
    "df.shape\n",
    "df.describe()\n",
    "df.info()"
   ]
  },
  {
   "cell_type": "code",
   "execution_count": null,
   "id": "c24d2746",
   "metadata": {},
   "outputs": [],
   "source": [
    "df['datetime'] = pd.to_datetime(df['datetime'])\n",
    "df['datetime']\n",
    "df['year'] = df['datetime'].dt.year\n",
    "df['month'] = df['datetime'].dt.month\n",
    "df['day'] = df['datetime'].dt.day\n",
    "df"
   ]
  },
  {
   "cell_type": "code",
   "execution_count": null,
   "id": "1c859a92",
   "metadata": {},
   "outputs": [],
   "source": [
    "df['hour'] = df['datetime'].dt.hour\n",
    "df['minute'] = df['datetime'].dt.minute\n",
    "df['second'] = df['datetime'].dt.second\n",
    "df.head()"
   ]
  },
  {
   "cell_type": "code",
   "execution_count": null,
   "id": "9ad1afaf",
   "metadata": {},
   "outputs": [],
   "source": [
    "df['row_id'].nunique()\n",
    "df = df.drop(columns=['datetime'],axis=1)\n",
    "df.head()\n",
    "f.reset_index(drop=True,inplace=True)"
   ]
  },
  {
   "cell_type": "code",
   "execution_count": null,
   "id": "92e7deea",
   "metadata": {},
   "outputs": [],
   "source": [
    "train = df.iloc[:train_len,:]\n",
    "test = df.iloc[test_len:,:]\n",
    "test = test.drop(columns=['energy'],axis=1)\n",
    "test.head()\n",
    "train['energy'].value_counts(normalize=True)\n",
    "# Spliting data\n",
    "X = train.drop(columns = 'energy')\n",
    "y = train['energy']\n",
    "#Will scale x data.\n",
    "from sklearn.preprocessing import StandardScaler\n",
    "\n",
    "#Assigning Statndard scaler to a variable.\n",
    "ss = StandardScaler()\n",
    "x_scaled = ss.fit_transform(X)\n",
    "#Pring scaled data.\n",
    "x_scaled\n"
   ]
  },
  {
   "cell_type": "code",
   "execution_count": null,
   "id": "6c4267b7",
   "metadata": {},
   "outputs": [],
   "source": [
    "#Import regression models\n",
    "from sklearn.linear_model import LinearRegression\n",
    "from sklearn.tree import DecisionTreeRegressor\n",
    "from sklearn.ensemble import RandomForestRegressor\n",
    "from sklearn.ensemble import AdaBoostRegressor\n",
    "from sklearn.ensemble import ExtraTreesRegressor\n",
    "from sklearn.ensemble import GradientBoostingRegressor\n",
    "from sklearn.neighbors import KNeighborsRegressor\n",
    "\n",
    "#Import Evaluation metrics\n",
    "from sklearn.metrics import r2_score\n",
    "from sklearn.metrics import mean_squared_error\n",
    "from sklearn.model_selection import cross_val_score\n",
    "from sklearn.model_selection import GridSearchCV"
   ]
  },
  {
   "cell_type": "code",
   "execution_count": null,
   "id": "70c6f8e9",
   "metadata": {},
   "outputs": [],
   "source": [
    "#Import train test split\n",
    "from sklearn.model_selection import train_test_split\n",
    "#Spliting dataset into train and test.\n",
    "x_train,x_test,y_train,y_test = train_test_split(x_scaled, y, test_size = 0.2, random_state = 7)\n",
    "#Defining function to fit and check model metrics\n",
    "def reg(model,x_train,y_train):\n",
    "    \n",
    "    #Train models\n",
    "    model.fit(x_train,y_train)\n",
    "    \n",
    "    #Predict x_test\n",
    "    pred = model.predict(x_test)\n",
    "    \n",
    "    #Calculating RMSE score. lower the RMSE is better\n",
    "    RMSE = mean_squared_error(y_test, pred, squared = False)\n",
    "    print('RMSE Score is: ', RMSE)\n",
    "    \n",
    "    #Calculate R2 score\n",
    "    R2 = r2_score(y_test, pred, multioutput = 'variance_weighted') * 100\n",
    "    print('R2 score is: ', R2)\n",
    "    \n",
    "    #Calculate cross validation score\n",
    "    cv = (cross_val_score(model, x, y, cv = 5).mean())*100\n",
    "    print('Cross Validation Score is: ', cv)\n",
    "    \n",
    "    #Calculate the difference between R2 and Cross validation. Lowe is better\n",
    "    var = R2 - cv\n",
    "    print('R2 - Cross Validation score is: ', var) "
   ]
  },
  {
   "cell_type": "code",
   "execution_count": null,
   "id": "594d60a0",
   "metadata": {},
   "outputs": [],
   "source": [
    "# Linear Regression Model\n",
    "model = LinearRegression()\n",
    "reg(model, x_train, y_train)\n",
    "# K Neighbors Regressor\n",
    "model = KNeighborsRegressor(n_neighbors = 5, algorithm = 'kd_tree')\n",
    "reg(model, x_train, y_train)\n",
    "# Random Forest Regressor\n",
    "model = RandomForestRegressor(max_depth = 2, max_features = \"sqrt\")\n",
    "reg(model, x_train, y_train)\n",
    "# Decision Tree Regressor\n",
    "model = DecisionTreeRegressor(criterion = \"poisson\", random_state = 0)\n",
    "reg(model, x_train, y_train)\n",
    "# Gradient Boosting Regressor\n",
    "model = GradientBoostingRegressor(loss = 'quantile', n_estimators = 200, max_depth = 5)\n",
    "reg(model, x_train, y_train)\n",
    "# Ada Boost Regressor\n",
    "model = AdaBoostRegressor(n_estimators = 300, learning_rate = 1.05, random_state = 42)\n",
    "reg(model, x_train, y_train)"
   ]
  },
  {
   "cell_type": "code",
   "execution_count": null,
   "id": "8ba378e2",
   "metadata": {},
   "outputs": [],
   "source": [
    "x_test = test\n",
    "x_test.shape\n",
    "x_test.head()\n",
    "model = KNeighborsRegressor(n_neighbors = 5, algorithm = 'kd_tree')\n",
    "model.fit(X,y)"
   ]
  },
  {
   "cell_type": "code",
   "execution_count": null,
   "id": "0996d925",
   "metadata": {},
   "outputs": [],
   "source": [
    "public = model.predict(x_test)\n",
    "submission1 = pd.DataFrame()\n",
    "submission1['ID'] = test['row_id']\n",
    "submission1['energy'] = public\n",
    "submission1.head(10)"
   ]
  },
  {
   "cell_type": "code",
   "execution_count": null,
   "id": "1e2ba1af",
   "metadata": {},
   "outputs": [],
   "source": [
    "submission1.to_csv('my_submission.csv',index=False)"
   ]
  },
  {
   "cell_type": "code",
   "execution_count": null,
   "id": "9657456c",
   "metadata": {},
   "outputs": [],
   "source": [
    "first of all i import all the necessary librarieslike pandas and numpy which is important for reading csv file.then i checked shape \n",
    "and size and null values if any .energy has null values which is best fitted with mean value.then i concate both train and test file and sepparate \n",
    "date time year column into year,month,day,hour,min and second which is previously showing in object form.then i normalize the target variable (energy)\n",
    "to boost the score.After this splitting the data anf standerised it with standard scaler.\n",
    "Then i started building model using def function so that all result will be called by just definig the model.then i can use various regressor model \n",
    "like linear regressor,k-neighbors regressor,random forest etc among which i find best result provided by k-neighbours.\n",
    "finally i train and test as required and save the model to predict the test set."
   ]
  },
  {
   "cell_type": "code",
   "execution_count": null,
   "id": "eca240b1",
   "metadata": {},
   "outputs": [],
   "source": []
  }
 ],
 "metadata": {
  "kernelspec": {
   "display_name": "Python 3 (ipykernel)",
   "language": "python",
   "name": "python3"
  },
  "language_info": {
   "codemirror_mode": {
    "name": "ipython",
    "version": 3
   },
   "file_extension": ".py",
   "mimetype": "text/x-python",
   "name": "python",
   "nbconvert_exporter": "python",
   "pygments_lexer": "ipython3",
   "version": "3.9.12"
  }
 },
 "nbformat": 4,
 "nbformat_minor": 5
}
